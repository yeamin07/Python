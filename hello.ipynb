{
 "cells": [
  {
   "cell_type": "code",
   "execution_count": 1,
   "metadata": {},
   "outputs": [
    {
     "name": "stdout",
     "output_type": "stream",
     "text": [
      "Hello World!\n",
      "That's my boy!\n"
     ]
    }
   ],
   "source": [
    "print(\"Hello World!\")\n",
    "print(\"That's my boy!\")"
   ]
  },
  {
   "cell_type": "code",
   "execution_count": 2,
   "metadata": {},
   "outputs": [
    {
     "name": "stdout",
     "output_type": "stream",
     "text": [
      "100 200\n"
     ]
    }
   ],
   "source": [
    "x = \"This is a variable\"\n",
    "y=100;z=200\n",
    "print(y,z)"
   ]
  },
  {
   "cell_type": "code",
   "execution_count": 3,
   "metadata": {},
   "outputs": [
    {
     "name": "stdout",
     "output_type": "stream",
     "text": [
      "<class 'int'>\n",
      "The number is : 100\n"
     ]
    }
   ],
   "source": [
    "x = 100\n",
    "print(type(x))\n",
    "\n",
    "x= input(\"Please enter a number:\")\n",
    "print(\"The number is :\",x)"
   ]
  },
  {
   "cell_type": "code",
   "execution_count": 5,
   "metadata": {},
   "outputs": [
    {
     "name": "stdout",
     "output_type": "stream",
     "text": [
      "<class 'int'>\n"
     ]
    },
    {
     "data": {
      "text/plain": [
       "bool"
      ]
     },
     "execution_count": 5,
     "metadata": {},
     "output_type": "execute_result"
    }
   ],
   "source": [
    "x=5\n",
    "print(type(x))\n",
    "x=True\n",
    "type(x)"
   ]
  },
  {
   "cell_type": "code",
   "execution_count": 6,
   "metadata": {},
   "outputs": [
    {
     "name": "stdout",
     "output_type": "stream",
     "text": [
      "125\n"
     ]
    }
   ],
   "source": [
    "#Double star (**) is used for power\n",
    "x=5\n",
    "y=x**3\n",
    "print(y)"
   ]
  },
  {
   "cell_type": "code",
   "execution_count": 7,
   "metadata": {},
   "outputs": [
    {
     "name": "stdout",
     "output_type": "stream",
     "text": [
      "1.4\n",
      "1\n",
      "6\n"
     ]
    }
   ],
   "source": [
    "print(21/15)\n",
    "print(21//15)  # '//' for deriving the floor value\n",
    "print(21%15)  # '%' for deriving remainder"
   ]
  },
  {
   "cell_type": "code",
   "execution_count": 1,
   "metadata": {},
   "outputs": [
    {
     "name": "stdout",
     "output_type": "stream",
     "text": [
      "11\n",
      "<class 'str'>\n"
     ]
    }
   ],
   "source": [
    "x=\"Cat and Dog\"\n",
    "print(len(x))  # Define the lenght\n",
    "print(type(x))"
   ]
  },
  {
   "cell_type": "code",
   "execution_count": 2,
   "metadata": {},
   "outputs": [
    {
     "name": "stdout",
     "output_type": "stream",
     "text": [
      "Don yeamin \n",
      "Donyeamin \n",
      "yeamin yeamin yeamin \n"
     ]
    }
   ],
   "source": [
    "first= \"Don\"\n",
    "second = \"yeamin \"\n",
    "name = second * 3\n",
    "last = first + second\n",
    "print(first,second)\n",
    "print(last)\n",
    "print(name)"
   ]
  },
  {
   "cell_type": "code",
   "execution_count": 3,
   "metadata": {},
   "outputs": [
    {
     "name": "stdout",
     "output_type": "stream",
     "text": [
      "y is:110\n",
      "110\n"
     ]
    }
   ],
   "source": [
    "#Python jekunu input string akare nei\n",
    "x = input(\"Enter x:\")\n",
    "y= int(x) + 10\n",
    "print(\"y is:\" + str(y))\n",
    "print(y)"
   ]
  },
  {
   "cell_type": "code",
   "execution_count": null,
   "metadata": {},
   "outputs": [],
   "source": [
    "x = input()\n",
    "y = input()\n",
    "print(\"The sum is: \", int(x)+int(y))"
   ]
  },
  {
   "cell_type": "code",
   "execution_count": 4,
   "metadata": {},
   "outputs": [
    {
     "name": "stdout",
     "output_type": "stream",
     "text": [
      "True\n",
      "False\n",
      "<class 'bool'>\n"
     ]
    }
   ],
   "source": [
    "x = (5 == 6)\n",
    "y = (\"Yeamin\" > \"Tamim\")\n",
    "print(y)\n",
    "print(x)\n",
    "print(type(x))"
   ]
  },
  {
   "cell_type": "code",
   "execution_count": null,
   "metadata": {},
   "outputs": [],
   "source": [
    "x= input(\"Enter a number: \")\n",
    "if float(x) >= 0:\n",
    "    print(\"Positive\")\n",
    "else:\n",
    "    print(\"Negative\")"
   ]
  },
  {
   "cell_type": "code",
   "execution_count": null,
   "metadata": {},
   "outputs": [],
   "source": [
    "x = input(\"Enter a number:\")\n",
    "x = int(x)\n",
    "if(x%2 == 0):\n",
    "    print(\"Even ba joor\")\n",
    "else:\n",
    "    print(\"Odd ba bijoor\")"
   ]
  },
  {
   "cell_type": "code",
   "execution_count": 6,
   "metadata": {},
   "outputs": [
    {
     "name": "stdout",
     "output_type": "stream",
     "text": [
      "A+\n"
     ]
    }
   ],
   "source": [
    "x = input(\"Enter your marks: \")\n",
    "x = float(x)\n",
    "if x>=80:\n",
    "    print(\"A+\")\n",
    "elif x>=70:\n",
    "    print(\"A\")\n",
    "elif x>=60:\n",
    "    print(\"A-\")\n",
    "elif x>=50:\n",
    "    print(\"B\")\n",
    "elif x>=40:\n",
    "    print(\"C\")\n",
    "else:\n",
    "    print(\"F\")"
   ]
  },
  {
   "cell_type": "code",
   "execution_count": null,
   "metadata": {},
   "outputs": [],
   "source": [
    "#Leap year\n",
    "x = int(input(\"Enter a year: \"))\n",
    "if x%100 == 0:\n",
    "    x = x/100\n",
    "if x%4 == 0:\n",
    "    print(\"Leap year\")\n",
    "else:\n",
    "    print(\"Not leap year\")"
   ]
  },
  {
   "cell_type": "code",
   "execution_count": null,
   "metadata": {},
   "outputs": [],
   "source": [
    "num_of_class = int(input(\"Enter the number of classes: \"))\n",
    "attended_class = int(input(\"Enter the attended classes by student: \"))\n",
    "percentage = (attended_class/num_of_class)*100\n",
    "if percentage >= 75:\n",
    "    print(\"Student is eligible for exam!\")\n",
    "else:\n",
    "    print(\"Student is not eligible for exam!\")\n",
    "print(\"The attendance percentage is:\",percentage,\"%\")"
   ]
  },
  {
   "cell_type": "code",
   "execution_count": null,
   "metadata": {},
   "outputs": [],
   "source": [
    "a = int(input(\"Enter the first number: \"))\n",
    "b = int(input(\"Enter the second number: \"))\n",
    "c = int(input(\"Enter the third number: \"))\n",
    "if a>b:\n",
    "    if a>c:\n",
    "        print(a,\"is the biggest\")\n",
    "    else:\n",
    "        print(c,\"is the biggest\")\n",
    "else :\n",
    "    if b>c:\n",
    "        print(b,\"is the biggest\")\n",
    "    else:\n",
    "        print(c,\"is the biggest\")"
   ]
  },
  {
   "cell_type": "code",
   "execution_count": 7,
   "metadata": {},
   "outputs": [
    {
     "name": "stdout",
     "output_type": "stream",
     "text": [
      "5.0\n",
      "3.141592653589793\n",
      "58.0\n",
      "10\n",
      "35\n",
      "0.49999999999999994\n"
     ]
    }
   ],
   "source": [
    "import math\n",
    "print(math.sqrt(25))\n",
    "print(math.pi)\n",
    "print(math.fabs(-58))\n",
    "print(math.gcd(30,100))\n",
    "print(math.lcm(5,7))\n",
    "degree = float(input(\"Enter an angle in degree: \"))\n",
    "radian = (degree*math.pi)/180\n",
    "print(math.sin(radian))"
   ]
  },
  {
   "cell_type": "code",
   "execution_count": 10,
   "metadata": {},
   "outputs": [
    {
     "name": "stdout",
     "output_type": "stream",
     "text": [
      "0.28997984423023637 89\n"
     ]
    }
   ],
   "source": [
    "import random as rd\n",
    "x = rd.random()   # it generates float number\n",
    "y = rd.randint(0,100)    # it generates integer number\n",
    "print(x,y)"
   ]
  }
 ],
 "metadata": {
  "kernelspec": {
   "display_name": "Python 3",
   "language": "python",
   "name": "python3"
  },
  "language_info": {
   "codemirror_mode": {
    "name": "ipython",
    "version": 3
   },
   "file_extension": ".py",
   "mimetype": "text/x-python",
   "name": "python",
   "nbconvert_exporter": "python",
   "pygments_lexer": "ipython3",
   "version": "3.11.5"
  },
  "orig_nbformat": 4
 },
 "nbformat": 4,
 "nbformat_minor": 2
}
