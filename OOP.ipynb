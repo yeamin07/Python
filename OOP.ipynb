{
 "cells": [
  {
   "cell_type": "code",
   "execution_count": 1,
   "metadata": {},
   "outputs": [
    {
     "name": "stdout",
     "output_type": "stream",
     "text": [
      "The name of the student is Munim\n",
      "He is in class 9\n",
      "His roll is 5\n",
      "5\n",
      "The name of the student is Lord Naim Sheikh\n",
      "He is in class 8\n",
      "His roll is 23\n"
     ]
    }
   ],
   "source": [
    "\"\"\" constructor & destructor function \"\"\"\n",
    "class student:\n",
    "    def __init__(self,name,Class,roll):  #constructor\n",
    "        self.name = name\n",
    "        self.Class = Class\n",
    "        self.roll = roll\n",
    "    def studentInfo(self):\n",
    "        print('The name of the student is '+ self.name)\n",
    "        print('He is in class '+ str(self.Class))\n",
    "        print('His roll is '+ str(self.roll))\n",
    "    def promote(self):\n",
    "        self.Class += 1\n",
    "    def changeRoll(self,roll):\n",
    "        self.roll = roll\n",
    "    def getRoll(self):\n",
    "        return self.roll\n",
    "    def __del__(self):     #destructor\n",
    "        print('The object is deleted')\n",
    "\n",
    "a = student('Munim',8,35)\n",
    "a.promote()\n",
    "a.changeRoll(5)\n",
    "a.studentInfo()\n",
    "print(a.getRoll())\n",
    "b = student('Lord Naim Sheikh',8,23)\n",
    "b.studentInfo()"
   ]
  },
  {
   "cell_type": "code",
   "execution_count": 2,
   "metadata": {},
   "outputs": [
    {
     "name": "stdout",
     "output_type": "stream",
     "text": [
      "The object is deleted\n",
      "My name is Harry and I am 27 years old\n",
      "The object is deleted\n",
      "My name is Harry and I am 27 years old\n",
      "I am in class 12\n"
     ]
    }
   ],
   "source": [
    "\"\"\" Inheritance \"\"\"\n",
    "class Person():\n",
    "    def __init__(self,name,age):\n",
    "        self.name = name\n",
    "        self.age = age\n",
    "    def describe(self):\n",
    "        print('My name is '+self.name+' and I am '+str(self.age)+' years old')\n",
    "a = Person('Harry',27)\n",
    "a.describe()\n",
    "\n",
    "class Student(Person):\n",
    "    def __init__(self,name,age,Class):\n",
    "        super().__init__(name,age)\n",
    "        self.Class = Class\n",
    "    def describe(self):\n",
    "        super().describe()\n",
    "        print('I am in class',self.Class)\n",
    "b = Student('Harry',27,12)\n",
    "b.describe()"
   ]
  },
  {
   "cell_type": "code",
   "execution_count": 3,
   "metadata": {},
   "outputs": [
    {
     "name": "stdout",
     "output_type": "stream",
     "text": [
      "I am in clas a\n",
      "Hello world from a\n",
      "Hi\n"
     ]
    }
   ],
   "source": [
    "\"\"\" Multiple inheritance \"\"\"\n",
    "class a():\n",
    "    def __init__(self):\n",
    "        print('I am in clas a')\n",
    "    def hello(self):\n",
    "        print('Hello world from a')\n",
    "\n",
    "class b():\n",
    "    def __init__(self):\n",
    "        print('I am in clas b')\n",
    "    def hello(self):\n",
    "        print('Hello world from b')\n",
    "    def hi(self):\n",
    "        print('Hi')\n",
    "\n",
    "class c(a,b):\n",
    "    pass\n",
    "x = c()\n",
    "x.hello()\n",
    "x.hi()"
   ]
  }
 ],
 "metadata": {
  "kernelspec": {
   "display_name": "Python 3",
   "language": "python",
   "name": "python3"
  },
  "language_info": {
   "codemirror_mode": {
    "name": "ipython",
    "version": 3
   },
   "file_extension": ".py",
   "mimetype": "text/x-python",
   "name": "python",
   "nbconvert_exporter": "python",
   "pygments_lexer": "ipython3",
   "version": "3.11.5"
  },
  "orig_nbformat": 4
 },
 "nbformat": 4,
 "nbformat_minor": 2
}
