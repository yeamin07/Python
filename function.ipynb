{
 "cells": [
  {
   "cell_type": "code",
   "execution_count": 1,
   "metadata": {},
   "outputs": [
    {
     "name": "stdout",
     "output_type": "stream",
     "text": [
      "True\n"
     ]
    }
   ],
   "source": [
    "\"\"\" function \"\"\"\n",
    "def isPrime(x):\n",
    "    for i in range(2,x):\n",
    "        if x%2==0:\n",
    "            return False\n",
    "    return True\n",
    "print(isPrime(43))"
   ]
  },
  {
   "cell_type": "code",
   "execution_count": null,
   "metadata": {},
   "outputs": [],
   "source": [
    "\"\"\" multiple return \"\"\"\n",
    "def f(a,b):\n",
    "    return a+b,a-b,a*b\n",
    "x,y,z = f(20,5)\n",
    "print(x,y,z)"
   ]
  },
  {
   "cell_type": "code",
   "execution_count": null,
   "metadata": {},
   "outputs": [],
   "source": [
    "\"\"\" swapping \"\"\"\n",
    "x , y = 5,10\n",
    "x,y = y,x\n",
    "print(x,y)"
   ]
  },
  {
   "cell_type": "code",
   "execution_count": 2,
   "metadata": {},
   "outputs": [
    {
     "name": "stdout",
     "output_type": "stream",
     "text": [
      "6\n",
      "28\n",
      "496\n"
     ]
    }
   ],
   "source": [
    "\"\"\" \n",
    "problem-01.\n",
    "A number is perfect or not!\n",
    "কোনো সংখ্যার,ঐ সংখ্যা ছাড়া বাকি উৎপাদক গুলোর যোগফল যদি সংখ্যাটির সমান হয় তাহলে তাকে perfect number বলে\n",
    "\"\"\"\n",
    "def add(myList):\n",
    "    s=0\n",
    "    for number in myList:\n",
    "        s=s+number\n",
    "    return s\n",
    "\n",
    "def isPerfect(n):\n",
    "    factors=[]\n",
    "    for i in range(1,n):\n",
    "        if n%i==0:\n",
    "            factors.append(i)\n",
    "    sum = add(factors)\n",
    "    if sum==n:\n",
    "        return True\n",
    "    else:\n",
    "        return False\n",
    "\n",
    "for i in range(1,1001):\n",
    "    if isPerfect(i)==True:\n",
    "        print(i)"
   ]
  },
  {
   "cell_type": "code",
   "execution_count": null,
   "metadata": {},
   "outputs": [],
   "source": [
    "\"\"\" problem-02 \"\"\"\n",
    "def allInOne(a,b,function):\n",
    "    return function(a,b)\n",
    "def add(a,b):\n",
    "    return a+b\n",
    "def sub(a,b):\n",
    "    return a-b\n",
    "def mul(a,b):\n",
    "    return a*b\n",
    "def div(a,b):\n",
    "    return a/b\n",
    "\n",
    "x=input()\n",
    "operation = x[:3]\n",
    "operation = operation.lower()\n",
    "i=4\n",
    "while x[i] != ' ':\n",
    "    i=i+1\n",
    "n1 = int(x[4:i])\n",
    "n2 = int(x[i+1:])\n",
    "if operation == 'add':\n",
    "    print('The answer is',allInOne(n1,n2,add))\n",
    "if operation == 'sub':\n",
    "    print('The answer is',allInOne(n1,n2,sub))\n",
    "if operation == 'mul':\n",
    "    print('The answer is',allInOne(n1,n2,mul))\n",
    "if operation == 'div':\n",
    "    print('The answer is',allInOne(n1,n2,div))"
   ]
  },
  {
   "cell_type": "code",
   "execution_count": 6,
   "metadata": {},
   "outputs": [
    {
     "name": "stdout",
     "output_type": "stream",
     "text": [
      "40.0\n"
     ]
    }
   ],
   "source": [
    "\"\"\" \n",
    "problem-03\n",
    "summation of series \n",
    " \"\"\"\n",
    "import math\n",
    "def func(n):\n",
    "    if n==1:\n",
    "        return 4\n",
    "    elif n==2:\n",
    "        return 3\n",
    "    else:\n",
    "        return math.fabs(func(n-1)**2 - func(n-2)**2)\n",
    "print(func(4))"
   ]
  },
  {
   "cell_type": "code",
   "execution_count": 4,
   "metadata": {},
   "outputs": [
    {
     "name": "stdout",
     "output_type": "stream",
     "text": [
      "(1, 2, 3, 4, 5, 6, 7, 8, 9)\n",
      "<class 'dict'>\n",
      "{'a': 1, 'b': 3, 'c': 3}\n"
     ]
    }
   ],
   "source": [
    "\"\"\" Variable number of arguments in function\n",
    "(args,kwargs) \"\"\"\n",
    "def sum(*args):\n",
    "    print(args)\n",
    "sum(1,2,3,4,5,6,7,8,9)\n",
    "\n",
    "def kwargs_demo(**kwargs):\n",
    "    print(type(kwargs))\n",
    "    print(kwargs)\n",
    "kwargs_demo(a=1,b=3,c=3)"
   ]
  }
 ],
 "metadata": {
  "kernelspec": {
   "display_name": "Python 3",
   "language": "python",
   "name": "python3"
  },
  "language_info": {
   "codemirror_mode": {
    "name": "ipython",
    "version": 3
   },
   "file_extension": ".py",
   "mimetype": "text/x-python",
   "name": "python",
   "nbconvert_exporter": "python",
   "pygments_lexer": "ipython3",
   "version": "3.11.5"
  },
  "orig_nbformat": 4
 },
 "nbformat": 4,
 "nbformat_minor": 2
}
