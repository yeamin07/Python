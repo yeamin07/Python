{
 "cells": [
  {
   "cell_type": "code",
   "execution_count": 1,
   "metadata": {},
   "outputs": [
    {
     "name": "stdout",
     "output_type": "stream",
     "text": [
      "The value is 55\n"
     ]
    }
   ],
   "source": [
    "\"\"\" while loop \"\"\"\n",
    "n = int(input(\"Enter the value of n: \"))\n",
    "sum = 0\n",
    "i = 1\n",
    "while i<=n:\n",
    "    sum += i       # sum of n natural numbers\n",
    "    i += 1\n",
    "print(\"The value is\",sum)"
   ]
  },
  {
   "cell_type": "code",
   "execution_count": 2,
   "metadata": {},
   "outputs": [
    {
     "name": "stdout",
     "output_type": "stream",
     "text": [
      "The value is 3628800\n"
     ]
    }
   ],
   "source": [
    "n = int(input(\"Enter the value of n: \"))\n",
    "fact = 1\n",
    "i = 1\n",
    "while i<=n:\n",
    "    fact *= i       # factorial of n natural numbers\n",
    "    i += 1\n",
    "print(\"The value is\",fact)"
   ]
  },
  {
   "cell_type": "code",
   "execution_count": 3,
   "metadata": {},
   "outputs": [
    {
     "name": "stdout",
     "output_type": "stream",
     "text": [
      "1 Before\n",
      "1 After\n",
      "2 Before\n",
      "2 After\n",
      "3 Before\n",
      "3 After\n",
      "4 Before\n",
      "4 After\n",
      "5 Before\n",
      "5 After\n"
     ]
    }
   ],
   "source": [
    "i = 0\n",
    "while i<5:\n",
    "    i = i+1\n",
    "    print(i,\"Before\")\n",
    "    if i==3:\n",
    "        pass         # compiler generally ignore pass statement\n",
    "    print(i,\"After\")"
   ]
  },
  {
   "cell_type": "code",
   "execution_count": 6,
   "metadata": {},
   "outputs": [
    {
     "name": "stdout",
     "output_type": "stream",
     "text": [
      "nimaey  mimah\n"
     ]
    }
   ],
   "source": [
    "\"\"\" for loop example\"\"\"\n",
    "name = input('Enter a name: ')\n",
    "name = name.lower()\n",
    "list = [letter for letter in name]\n",
    "list.reverse()\n",
    "for letter in list:\n",
    "    print(letter,end=\"\")\n",
    "\n",
    "name = input('Enter a name: ')\n",
    "name = name.lower()\n",
    "revName = name[::-1]\n",
    "print(' ',revName)"
   ]
  },
  {
   "cell_type": "code",
   "execution_count": null,
   "metadata": {},
   "outputs": [],
   "source": [
    "\"\"\" bigger/smaller & average(for loop) \"\"\"\n",
    "myList = []\n",
    "for i in range(5):\n",
    "    print('Enter the',i+1,'th number: ',end=\"\")\n",
    "    x = input()\n",
    "    myList.append(int(x))\n",
    "bigger = myList[0]\n",
    "smaller = myList[0]\n",
    "for number in myList:\n",
    "    if number > bigger:\n",
    "        bigger = number\n",
    "    if number < smaller:\n",
    "        smaller = number\n",
    "sum = 0\n",
    "for number in myList:\n",
    "    sum += number\n",
    "avg = sum / len(myList)\n",
    "print(\"Average is\",avg)\n",
    "print(\"The biggest number is: \",bigger)\n",
    "print(\"The smallest number is: \",smaller)"
   ]
  },
  {
   "cell_type": "code",
   "execution_count": null,
   "metadata": {},
   "outputs": [],
   "source": [
    "\"\"\" alternative(bigger/smaller & average) \"\"\"\n",
    "x= int(input('Enter the 1 th number: '))\n",
    "bigger=x\n",
    "smaller=x\n",
    "sum=x\n",
    "for i in range(2,6):\n",
    "    print('Enter the',i,'th number: ',end=\"\")\n",
    "    x=int(input())\n",
    "    if x>bigger:\n",
    "        bigger=x\n",
    "    if x<smaller:\n",
    "        smaller=x\n",
    "    sum+=x\n",
    "print(\"The biggest number is:\",bigger)\n",
    "print(\"The smallest number is:\",smaller)\n",
    "print(\"Average is:\",sum/5)"
   ]
  },
  {
   "cell_type": "code",
   "execution_count": null,
   "metadata": {},
   "outputs": [],
   "source": [
    "\"\"\" for loop(example-3-pattern) \"\"\"\n",
    "for i in range(1,10):\n",
    "    for j in range(i):\n",
    "        print(i,end=\"\")\n",
    "    print('')\n",
    "\n",
    "for i in range(1,10):\n",
    "    for j in range(i):\n",
    "        print(j+1,end=\"\")\n",
    "    print('')"
   ]
  },
  {
   "cell_type": "code",
   "execution_count": null,
   "metadata": {},
   "outputs": [],
   "source": [
    "\"\"\" for loop(example-4:prime number) \"\"\"\n",
    "x = int(input('Enter a number: '))\n",
    "flag=1\n",
    "for i in range(2,x):\n",
    "    if x%i==0:\n",
    "        print('not a prime')\n",
    "        flag=0\n",
    "        break\n",
    "if flag==1:\n",
    "    print(\"prime\")"
   ]
  },
  {
   "cell_type": "code",
   "execution_count": null,
   "metadata": {},
   "outputs": [],
   "source": [
    "\"\"\" List \"\"\"\n",
    "bazarList = ['onion','ginger','garlic','keyboard',5,6,7.8,'onion']\n",
    "print(bazarList[-1])  # (-listLenght to listLenght - 1) used to access element\n",
    "print(len(bazarList))\n",
    "print(bazarList.count('onion'))\n",
    "bazarList.append('Oil')     # append added last & insert added according to index\n",
    "bazarList.insert(1,'cinamon')\n",
    "#bazarList.remove('onion')\n",
    "#bazarList.pop()       # pop removed from last\n",
    "del bazarList[6]\n",
    "print(bazarList)"
   ]
  },
  {
   "cell_type": "code",
   "execution_count": 7,
   "metadata": {},
   "outputs": [
    {
     "name": "stdout",
     "output_type": "stream",
     "text": [
      "9\n",
      "False\n",
      "True\n",
      "9\n"
     ]
    }
   ],
   "source": [
    "bazarList = ['onion','ginger','garlic','keyboard',5,6,'onion']\n",
    "secondList = ['jacket','milk','lettuce',8,9,10]\n",
    "thirdList = bazarList + secondList\n",
    "print(thirdList.index('lettuce'))\n",
    "print('chocolate' in thirdList)\n",
    "print('onion' in thirdList)\n",
    "if 'lettuce' in thirdList:\n",
    "    x = thirdList.index('lettuce')\n",
    "    print(x)"
   ]
  },
  {
   "cell_type": "code",
   "execution_count": null,
   "metadata": {},
   "outputs": [],
   "source": [
    "myList = [1,2,3,4,5,6,7,8,'onion']\n",
    "myList[2] = 'onion'\n",
    "print(myList)\n",
    "myList.reverse()   # used to reverse the list\n",
    "print(myList)"
   ]
  },
  {
   "cell_type": "code",
   "execution_count": null,
   "metadata": {},
   "outputs": [],
   "source": [
    "myList = [46,3,0,-45,66,-78,96,2,1]\n",
    "myList2 = ['onion','ginger','garlic','pasta','eggs']\n",
    "myList.sort()\n",
    "myList.sort(reverse = True)\n",
    "print(myList)\n",
    "myList2.sort()\n",
    "print(myList2)"
   ]
  },
  {
   "cell_type": "code",
   "execution_count": null,
   "metadata": {},
   "outputs": [],
   "source": [
    "\"\"\" slicing of list \"\"\"\n",
    "#slicing e last index er ager index porjonto print hoi\n",
    "myList = [1,2,3,4,5,6,7,8,9]\n",
    "print(myList[1:8])\n",
    "print(myList[0::2]) # third index is for gap in list"
   ]
  },
  {
   "cell_type": "code",
   "execution_count": null,
   "metadata": {},
   "outputs": [],
   "source": [
    "\"\"\" Tuples\n",
    "Tuple list er motoi. But, tuple er element change kora jaina(immutable).\n",
    "change korte chaile Tuple ke list e convert korte hobe.\n",
    "() diye tuple suru hoi.\n",
    "\"\"\"\n",
    "myTuple = (\"apple\",\"banana\",\"orange\",\"lemon\",\"pinapple\")\n",
    "print(myTuple)\n",
    "print(type(myTuple))\n",
    "print(myTuple[4])\n",
    "print(len(myTuple))\n",
    "print(myTuple * 3)"
   ]
  },
  {
   "cell_type": "code",
   "execution_count": 14,
   "metadata": {},
   "outputs": [
    {
     "name": "stdout",
     "output_type": "stream",
     "text": [
      "4\n"
     ]
    }
   ],
   "source": [
    "\"\"\" #Dictionary\n",
    "dictionaries in python is like object in javascript.\n",
    "First value is called 'keys' and second value is called 'values'.\n",
    "\"\"\"\n",
    "capital = {\n",
    "    \"Bangladesh\" : \"Dhaka\",\n",
    "    \"Srilanka\" : \"Colombo\",\n",
    "    \"Pakistan\" : \"Islamabad\"\n",
    "}\n",
    "#print(capital)\n",
    "#print(capital.keys())\n",
    "#print(capital.values())\n",
    "#print(capital['Srilanka'])\n",
    "#capital['India'] = \"New Delhi\"  # Inserting/changing element in dictionary\n",
    "#print(len(capital))\n",
    "#del capital['Srilanka']   #deleting items"
   ]
  },
  {
   "cell_type": "code",
   "execution_count": 9,
   "metadata": {},
   "outputs": [
    {
     "name": "stdout",
     "output_type": "stream",
     "text": [
      "['y', 'e', 'a', 'm', 'i', 'n']\n",
      "[0, 1, 2, 3, 4, 5, 6, 7, 8, 9]\n",
      "[7, 9]\n",
      "['odd', 'odd', 'even', 'even', 'odd', 'odd']\n"
     ]
    }
   ],
   "source": [
    "\"\"\" List comprehension \"\"\"\n",
    "name = \"yeamin\"\n",
    "list = [letter for letter in name]\n",
    "print(list)\n",
    "\n",
    "myList = [digit for digit in range(0,10)]\n",
    "print(myList)\n",
    "\n",
    "myList = [digit for digit in range(1,11) if digit%2==1 and digit>5]\n",
    "print(myList)\n",
    "\n",
    "myList = [1,15,78,96,45,87]\n",
    "newList = [\"even\" if number%2==0 else \"odd\" for number in myList]\n",
    "print(newList)"
   ]
  }
 ],
 "metadata": {
  "kernelspec": {
   "display_name": "Python 3",
   "language": "python",
   "name": "python3"
  },
  "language_info": {
   "codemirror_mode": {
    "name": "ipython",
    "version": 3
   },
   "file_extension": ".py",
   "mimetype": "text/x-python",
   "name": "python",
   "nbconvert_exporter": "python",
   "pygments_lexer": "ipython3",
   "version": "3.11.5"
  },
  "orig_nbformat": 4
 },
 "nbformat": 4,
 "nbformat_minor": 2
}
