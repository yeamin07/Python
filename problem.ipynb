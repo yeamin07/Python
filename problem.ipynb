{
 "cells": [
  {
   "cell_type": "code",
   "execution_count": 25,
   "metadata": {},
   "outputs": [
    {
     "name": "stdout",
     "output_type": "stream",
     "text": [
      "bte"
     ]
    }
   ],
   "source": [
    "\"\"\" If user inputs 'abc',\n",
    " the output will be 'bcd'\n",
    " for input 'xyz', output => 'yza'\n",
    " \"\"\"\n",
    "s = input(\"Enter a string:\")\n",
    "for i in s:\n",
    "    if not i.isalpha():\n",
    "        print(i,end=\"\")\n",
    "    elif i=='z':\n",
    "        print('a',end=\"\")\n",
    "    elif i=='Z':\n",
    "        print('A',end=\"\")\n",
    "    else:\n",
    "        print(chr(ord(i) + 1), end=\"\")"
   ]
  },
  {
   "cell_type": "code",
   "execution_count": null,
   "metadata": {},
   "outputs": [],
   "source": [
    "\"\"\" Find out mean(gor),median(moddhok),mode(prochurok) form \n",
    " an input of number list \"\"\"\n",
    "numbers = input('Enter a list of numbers:')\n",
    "numbers = numbers.split()\n",
    "numbers = [int(i) for i in numbers]\n",
    "numbers.sort()\n",
    "mean = sum(numbers)/len(numbers)\n",
    "if len(numbers) % 2 == 0:\n",
    "    median = (numbers[len(numbers) // 2] + numbers[len(numbers)//2 - 1]) / 2\n",
    "else:\n",
    "    median = numbers[len(numbers) // 2]\n",
    "\n",
    "mode = numbers[0]\n",
    "max_count = 1\n",
    "for i in range(len(numbers)):\n",
    "    temp_count = numbers.count(numbers[i])\n",
    "    if temp_count > max_count:\n",
    "        max_count = temp_count\n",
    "        mode = numbers[i]\n",
    "\n",
    "print('mean: ',mean)\n",
    "print('median: ',median)\n",
    "print('mode: ',mode,'max_count: ',max_count)"
   ]
  },
  {
   "cell_type": "code",
   "execution_count": 3,
   "metadata": {},
   "outputs": [
    {
     "name": "stdout",
     "output_type": "stream",
     "text": [
      "[1, 2] [19, 20] \n",
      "max_distance: 648\n"
     ]
    }
   ],
   "source": [
    "\"\"\"* you are given a list of points\n",
    "* each points is a list of two numbers\n",
    "* the first number is the x coordinate\n",
    "* the second number is the y coordinate\n",
    "* write a program that finds the two points with the largest distance between them.\n",
    " (doing by Brute-force approach)\n",
    " \"\"\"\n",
    "points = [[1,2],[3,4],[5,6],[7,8],[9,10],[11,12],[13,14],[15,16],[17,18],[19,20]]\n",
    "max_distance = 0\n",
    "for i in range(len(points)):\n",
    "    for j in range(i+1,len(points)):\n",
    "        distance=((points[j][0] - points[i][0])**2 + (points[j][1] - points[i][1])**2)\n",
    "        if distance>max_distance:\n",
    "            max_distance = distance\n",
    "            point1 = points[i]\n",
    "            point2 = points[j]\n",
    "print(point1,point2,'\\nmax_distance:',max_distance)"
   ]
  },
  {
   "cell_type": "code",
   "execution_count": null,
   "metadata": {},
   "outputs": [],
   "source": [
    "\"\"\" You are given two sentences\n",
    "* Write a program that finds the words that are in both sentences\"\"\"\n",
    "s1 = input(\"Enter a sentence:\")\n",
    "s2 = input(\"Enter a sentence:\")\n",
    "words1 = s1.split()\n",
    "words2 = s2.split()\n",
    "for i in words1:\n",
    "    if i in words2:\n",
    "        print(i,end=\" \")"
   ]
  },
  {
   "cell_type": "code",
   "execution_count": 5,
   "metadata": {},
   "outputs": [
    {
     "name": "stdout",
     "output_type": "stream",
     "text": [
      "[1, 2, 3, 4, 5, 6, 7, 8, 9, 10]\n"
     ]
    }
   ],
   "source": [
    "\"\"\" write a program that takes a list as input \n",
    " and removes all the duplicates \"\"\"\n",
    "x=[1,2,3,4,5,6,7,8,9,10,1,2,3,4,5,6,7,8,9,10,3,3,3,7,8,9]\n",
    "x2=[]\n",
    "for i in x:\n",
    "    if i not in x2:\n",
    "        x2.append(i)\n",
    "print(x2)"
   ]
  },
  {
   "cell_type": "code",
   "execution_count": null,
   "metadata": {},
   "outputs": [],
   "source": [
    "\"\"\" Write a program that takes a bunch of numbers as input and\n",
    " prints their gcd(greatest common divisor) \"\"\"\n",
    "from math import gcd\n",
    "num = input(\"Enter a list of numbers:\")\n",
    "num = num.split()\n",
    "num = [int(i) for i in num]\n",
    "gcd_ = num[0]\n",
    "for i in range(1,len(num)):\n",
    "    gcd_ = gcd(gcd_,num[i])\n",
    "print(gcd_)"
   ]
  },
  {
   "cell_type": "code",
   "execution_count": 6,
   "metadata": {},
   "outputs": [
    {
     "name": "stdout",
     "output_type": "stream",
     "text": [
      "1 : 3\n",
      "2 : 3\n",
      "3 : 5\n",
      "4 : 3\n",
      "5 : 3\n",
      "6 : 3\n",
      "7 : 3\n",
      "8 : 3\n",
      "9 : 3\n",
      "10 : 3\n"
     ]
    }
   ],
   "source": [
    "\"\"\" Write a program that takes a tuple as input and\n",
    " print the number of times each element appears in the tuple \"\"\"\n",
    "x = (1,2,3,4,5,6,7,8,9,10,1,2,3,4,5,6,7,8,9,10,1,2,3,4,5,6,7,8,9,10,3,3)\n",
    "y = []\n",
    "for i in x:\n",
    "    if i not in y:\n",
    "        n = x.count(i)\n",
    "        print(i,':',n)\n",
    "        y.append(i)"
   ]
  },
  {
   "cell_type": "code",
   "execution_count": 8,
   "metadata": {},
   "outputs": [
    {
     "name": "stdout",
     "output_type": "stream",
     "text": [
      "[('Bangladesh', 'Dhaka'), ('Bhutan', 'Thimpu'), ('India', 'New Delhi'), ('Nepal', 'Kathmandu'), ('Pakistan', 'Islamabad'), ('Srilanka', 'Colombo')]\n"
     ]
    }
   ],
   "source": [
    "\"\"\" Write a program that takes a dictionary as input and\n",
    " prints the key-value pair in alphabetical order of the keys\"\"\"\n",
    "x = {\n",
    "    'Bangladesh':'Dhaka',\n",
    "    'India':'New Delhi',\n",
    "    'Pakistan':'Islamabad',\n",
    "    'Nepal':'Kathmandu',\n",
    "    'Srilanka':'Colombo',\n",
    "    'Bhutan':'Thimpu'\n",
    "}\n",
    "items = list(x.items())\n",
    "items = sorted(items,key=lambda x:x[1])\n",
    "items = sorted(items)\n",
    "print(items)"
   ]
  },
  {
   "cell_type": "code",
   "execution_count": 9,
   "metadata": {},
   "outputs": [
    {
     "name": "stdout",
     "output_type": "stream",
     "text": [
      "( 3 , 5 )\n",
      "( 5 , 7 )\n",
      "( 11 , 13 )\n",
      "( 17 , 19 )\n",
      "( 29 , 31 )\n",
      "( 41 , 43 )\n",
      "( 59 , 61 )\n",
      "( 71 , 73 )\n"
     ]
    }
   ],
   "source": [
    "\"\"\" write a program that finds the twin prime between 2 to user input range \"\"\"\n",
    "def isPrime(n):\n",
    "    for i in range(2,int(n ** 0.5) + 1):\n",
    "        if n % i == 0:\n",
    "            return False\n",
    "    return True\n",
    "\n",
    "def isTwinPrime(n):\n",
    "    return isPrime(n) and isPrime(n+2) # return true or false 3 and 3+2\n",
    "\n",
    "n = int(input('Enter a number:'))\n",
    "for i in range(3,n):\n",
    "    if isTwinPrime(i):\n",
    "        print('(',i,',',i+2,')')"
   ]
  },
  {
   "cell_type": "code",
   "execution_count": 23,
   "metadata": {},
   "outputs": [
    {
     "name": "stdout",
     "output_type": "stream",
     "text": [
      "[6, 28, 496]\n"
     ]
    }
   ],
   "source": [
    "\"\"\" write a function that takes a number as input and returns \n",
    "all the perfect numbers between 1 and the number\n",
    "(perfect numbers are numbers that are equal to their factors except the number itself) \"\"\"\n",
    "def factor_sum(n):\n",
    "    sum = 0\n",
    "    for i in range(1,n):\n",
    "        if n%i==0:\n",
    "            sum = sum+i\n",
    "    return sum\n",
    "    \n",
    "def perfect_number(n):\n",
    "    return factor_sum(n) == n\n",
    "\n",
    "n = int(input('Enter a number:'))\n",
    "list = []\n",
    "for i in range(1,n+1):\n",
    "    if perfect_number(i): #6\n",
    "       list.append(i)\n",
    "print(list)"
   ]
  },
  {
   "cell_type": "code",
   "execution_count": 15,
   "metadata": {},
   "outputs": [
    {
     "name": "stdout",
     "output_type": "stream",
     "text": [
      "55\n",
      "Time taken:  0.0\n"
     ]
    }
   ],
   "source": [
    "\"\"\" Deriving fibonacci number \"\"\"\n",
    "import time\n",
    "fib_dict = {0: 0,1: 1}\n",
    "\n",
    "def fibonacci(n):\n",
    "    if n in fib_dict:\n",
    "        return fib_dict[n]\n",
    "    fib_dict[n] = fibonacci(n-1) + fibonacci(n-2)\n",
    "    return fib_dict[n]\n",
    "\n",
    "n = int(input('Enter a number:'))\n",
    "start_time = time.time()\n",
    "print(fibonacci(n))\n",
    "print('Time taken: ',time.time() - start_time)"
   ]
  },
  {
   "cell_type": "code",
   "execution_count": 3,
   "metadata": {},
   "outputs": [
    {
     "data": {
      "text/plain": [
       "True"
      ]
     },
     "execution_count": 3,
     "metadata": {},
     "output_type": "execute_result"
    }
   ],
   "source": [
    "\n",
    "\"\"\" Write a recursive function that takes a string as input and returns whether the \n",
    "string is palindrome or not \"\"\"\n",
    "def isPalindrome(s):\n",
    "    if len(s) <= 1:\n",
    "        return True\n",
    "    if s[0] != s[-1]:\n",
    "        return False\n",
    "    return isPalindrome(s[1:-1])\n",
    "isPalindrome('hannah')"
   ]
  },
  {
   "cell_type": "code",
   "execution_count": 1,
   "metadata": {},
   "outputs": [],
   "source": [
    "# You are given the name of a file containing list of email addresses.\n",
    "# Your task is to write a program to check the validity of these email addresses.\n",
    "# And write the email addresses to another file as follows:\n",
    "# 1. If the email address is valid, write it to the file as it is\n",
    "# 2. If the email address is invalid, write it to the file with the word 'invalid' appended to it.\n",
    "\n",
    "# An email address is considered valid if it meets the following conditions:\n",
    "# 1. It must have exactly one '@' symbol\n",
    "# 2. The '@' symbol must not be the first or last character\n",
    "# 3. There must be as least one character before and after the '@' symbol\n",
    "# 4. The domain name (the part after the '@' symbol) must contain at least one '.' symbol\n",
    "# 5. The domain name must not start and end with a '.' symbol\n",
    "# 6. The domain name must have at least two characters after the last '.' symbol\n",
    "# 7. Ignore all leading and trailing whitespaces."
   ]
  },
  {
   "cell_type": "code",
   "execution_count": 57,
   "metadata": {},
   "outputs": [],
   "source": [
    "def cond1(email):\n",
    "    return email.count('@') == 1\n",
    "\n",
    "def cond2(email):\n",
    "    return email[0] != '@' and email[-1] != '@'\n",
    "\n",
    "def cond3(email):\n",
    "    return email.index('@') != 0 and email.index('@') != len(email) - 1\n",
    "\n",
    "def cond4(email):\n",
    "    before, after = email.split('@')\n",
    "    return after.count('.') >= 1\n",
    "\n",
    "def cond5(email):\n",
    "    before,after = email.split('@')\n",
    "    return after[0] != '.' and after[-1] != '.'\n",
    "\n",
    "def cond6(email):\n",
    "    before,after = email.split('@')\n",
    "    return len(after.split('.')[-1]) >=2\n",
    "\n",
    "def isValid(email):\n",
    "    return cond1(email) and cond2(email) and cond3(email) and cond4(email) and cond5(email) and cond6(email)\n",
    "\n",
    "def writeValidEmails(input_file,output_file):\n",
    "    file = open(input_file,'r')\n",
    "    emails = file.read().splitlines()\n",
    "    output = open(output_file,'w')\n",
    "    for email in emails:\n",
    "        if isValid(email):\n",
    "            output.write(email + '\\n')\n",
    "        else:\n",
    "            output.write(email + ' invalid\\n')\n",
    "    file.close()\n",
    "    output.close()\n",
    "    \n",
    "writeValidEmails('Text.txt','anotherFile.txt')"
   ]
  }
 ],
 "metadata": {
  "kernelspec": {
   "display_name": "Python 3",
   "language": "python",
   "name": "python3"
  },
  "language_info": {
   "codemirror_mode": {
    "name": "ipython",
    "version": 3
   },
   "file_extension": ".py",
   "mimetype": "text/x-python",
   "name": "python",
   "nbconvert_exporter": "python",
   "pygments_lexer": "ipython3",
   "version": "3.11.5"
  },
  "orig_nbformat": 4
 },
 "nbformat": 4,
 "nbformat_minor": 2
}
