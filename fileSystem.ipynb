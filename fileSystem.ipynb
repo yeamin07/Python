{
 "cells": [
  {
   "cell_type": "code",
   "execution_count": 1,
   "metadata": {},
   "outputs": [
    {
     "name": "stdout",
     "output_type": "stream",
     "text": [
      "The capital of Bangladesh is Dhaka\n",
      "\n",
      "The currency of Bangladesh is Taka\n"
     ]
    }
   ],
   "source": [
    "\"\"\" reading from a file \"\"\"\n",
    "file = open('Text.txt','r')\n",
    "for line in file:\n",
    "    print(line)\n",
    "file.close()"
   ]
  },
  {
   "cell_type": "code",
   "execution_count": 4,
   "metadata": {},
   "outputs": [],
   "source": [
    "\"\"\" summation of number from file \"\"\"\n",
    "\n",
    "file = open('Text.txt','r')\n",
    "x = file.read().split()\n",
    "list = [int(i) for i in x]\n",
    "\n",
    "file2 = open('anotherFile.txt','w')\n",
    "file2.write(str(sum(list)))\n",
    "\n",
    "file.close()\n",
    "file2.close()"
   ]
  },
  {
   "cell_type": "code",
   "execution_count": 3,
   "metadata": {},
   "outputs": [],
   "source": [
    "\"\"\" writing into a file\n",
    "\"w\" mode e open korle file er content delete hoye tai.\n",
    "\"a\" mode a open korle write kora jai kintu ager content delete hoina \n",
    "\"x\" mode a open korle kono file create na thakle new kore create kore\n",
    "\"\"\"\n",
    "file = open('Text.txt','a')\n",
    "file.write('\\nJava the complete reference')\n",
    "file.close()"
   ]
  },
  {
   "cell_type": "code",
   "execution_count": null,
   "metadata": {},
   "outputs": [],
   "source": [
    "\"\"\" creating a file in a specific location \"\"\"\n",
    "address = 'C:\\\\Users\\Public\\Desktop\\output.txt'\n",
    "file = open(address,'a')\n",
    "file.write('I am writing from a program')\n",
    "file.close()"
   ]
  },
  {
   "cell_type": "code",
   "execution_count": 10,
   "metadata": {},
   "outputs": [],
   "source": [
    "\"\"\" Example-01 \"\"\"\n",
    "file = open('Country.txt','r')\n",
    "country=[]\n",
    "for line in file:\n",
    "    x = line.split()\n",
    "    country.append(x)\n",
    "capital = {}\n",
    "currency = {}\n",
    "for countries in country:\n",
    "    key = countries[0].lower() #country\n",
    "    value = countries[1]  #capital\n",
    "    value2 = countries[2] #currency\n",
    "    capital[key] = value\n",
    "    currency[key]= value2\n",
    "x = input('Enter the name of a country:')\n",
    "output_file = open('Text.txt','w')\n",
    "if x.lower() in capital:\n",
    "    output_file.write('The capital of '+x+' is '+capital[x.lower()]+'\\n')\n",
    "    output_file.write('The currency of '+x+' is '+currency[x.lower()])\n",
    "else:\n",
    "    output_file.write('The country is not found!')\n",
    "output_file.close()"
   ]
  },
  {
   "cell_type": "code",
   "execution_count": 12,
   "metadata": {},
   "outputs": [
    {
     "name": "stdout",
     "output_type": "stream",
     "text": [
      "             name alpha-2 alpha-3  country-code     iso_3166-2   region  \\\n",
      "0     Afghanistan      AF     AFG             4  ISO 3166-2:AF     Asia   \n",
      "1   Åland Islands      AX     ALA           248  ISO 3166-2:AX   Europe   \n",
      "2         Albania      AL     ALB             8  ISO 3166-2:AL   Europe   \n",
      "3         Algeria      DZ     DZA            12  ISO 3166-2:DZ   Africa   \n",
      "4  American Samoa      AS     ASM            16  ISO 3166-2:AS  Oceania   \n",
      "\n",
      "        sub-region intermediate-region  region-code  sub-region-code  \\\n",
      "0    Southern Asia                 NaN        142.0             34.0   \n",
      "1  Northern Europe                 NaN        150.0            154.0   \n",
      "2  Southern Europe                 NaN        150.0             39.0   \n",
      "3  Northern Africa                 NaN          2.0             15.0   \n",
      "4        Polynesia                 NaN          9.0             61.0   \n",
      "\n",
      "   intermediate-region-code  \n",
      "0                       NaN  \n",
      "1                       NaN  \n",
      "2                       NaN  \n",
      "3                       NaN  \n",
      "4                       NaN  \n",
      "0            Afghanistan\n",
      "1          Åland Islands\n",
      "2                Albania\n",
      "3                Algeria\n",
      "4         American Samoa\n",
      "             ...        \n",
      "244    Wallis and Futuna\n",
      "245       Western Sahara\n",
      "246                Yemen\n",
      "247               Zambia\n",
      "248             Zimbabwe\n",
      "Name: name, Length: 249, dtype: object\n",
      "<class 'pandas.core.series.Series'>\n"
     ]
    }
   ],
   "source": [
    "\"\"\" pandas \"\"\"\n",
    "import pandas as pd\n",
    "file = pd.read_csv('country.csv')\n",
    "print(file.head(5))\n",
    "print(file['name'])\n",
    "print(type(file['name']))"
   ]
  },
  {
   "cell_type": "code",
   "execution_count": 13,
   "metadata": {},
   "outputs": [
    {
     "name": "stdout",
     "output_type": "stream",
     "text": [
      "{'Bangladesh': 'Dhaka', 'India': 'New-Delhi', 'China': 'Beijing', 'Srilanka': 'Colombo', 'USA': 'New-York'}\n",
      "{'Bangladesh': 'Taka', 'India': 'Rupees', 'China': 'Renminbi', 'Srilanka': 'Rupees', 'USA': 'Dollars'}\n"
     ]
    }
   ],
   "source": [
    "\"\"\" reading text files by pandas \"\"\"\n",
    "import pandas as pd\n",
    "file = pd.read_csv('Country.txt',delimiter=' ')\n",
    "country = list(file['Country'])\n",
    "capital = list(file['Capital'])\n",
    "currency = list(file['Currency'])\n",
    "Capital_dict = {}\n",
    "Currency_dict = {}\n",
    "i = 0\n",
    "while i<len(country):\n",
    "    Capital_dict[country[i]] = capital[i]\n",
    "    Currency_dict[country[i]] = currency[i]\n",
    "    i = i+1\n",
    "print(Capital_dict)\n",
    "print(Currency_dict)"
   ]
  },
  {
   "cell_type": "markdown",
   "metadata": {},
   "source": [
    "# 'r' - read\n",
    "# 'w' - write\n",
    "# 'a' - append\n",
    "# 'r+' - read and write\n",
    "# 'w+' - read and write\n",
    "# 'a+' - append and read\n",
    "# 'x' - create a new file and write to it"
   ]
  },
  {
   "cell_type": "code",
   "execution_count": 13,
   "metadata": {},
   "outputs": [
    {
     "name": "stdout",
     "output_type": "stream",
     "text": [
      "43\n"
     ]
    }
   ],
   "source": [
    "\"\"\" Write a program that reads a file containing a text and prints the lenght of\n",
    "the vocabulary \"\"\"\n",
    "\n",
    "file = open('Text.txt','r')\n",
    "x = file.read()\n",
    "x = x.replace(',','')\n",
    "x = x.replace('.','')\n",
    "x = x.split()\n",
    "x = set(x) #removes the duplicate words\n",
    "print(len(x))"
   ]
  }
 ],
 "metadata": {
  "kernelspec": {
   "display_name": "Python 3",
   "language": "python",
   "name": "python3"
  },
  "language_info": {
   "codemirror_mode": {
    "name": "ipython",
    "version": 3
   },
   "file_extension": ".py",
   "mimetype": "text/x-python",
   "name": "python",
   "nbconvert_exporter": "python",
   "pygments_lexer": "ipython3",
   "version": "3.11.5"
  },
  "orig_nbformat": 4
 },
 "nbformat": 4,
 "nbformat_minor": 2
}
